{
 "cells": [
  {
   "cell_type": "code",
   "execution_count": 6,
   "metadata": {},
   "outputs": [
    {
     "name": "stdout",
     "output_type": "stream",
     "text": [
      "env: GOOGLE_APPLICATION_CREDENTIALS=C:\\Users\\siddhartha.s\\Desktop\\something\\02. py_algo_ds\\THP\\Google\\key.json\n"
     ]
    }
   ],
   "source": [
    "%set_env GOOGLE_APPLICATION_CREDENTIALS=C:\\Users\\siddhartha.s\\Desktop\\something\\02. py_algo_ds\\THP\\Google\\key.json"
   ]
  },
  {
   "cell_type": "code",
   "execution_count": 7,
   "metadata": {
    "collapsed": true
   },
   "outputs": [
    {
     "data": {
      "text/plain": [
       "{'ALLUSERSPROFILE': 'C:\\\\ProgramData',\n",
       " 'APPDATA': 'C:\\\\Users\\\\siddhartha.s\\\\AppData\\\\Roaming',\n",
       " 'CLASS_PATH': 'C:\\\\Program Files\\\\Java\\\\jdk-14.0.2\\\\lib',\n",
       " 'COMMONPROGRAMFILES': 'C:\\\\Program Files\\\\Common Files',\n",
       " 'COMMONPROGRAMFILES(X86)': 'C:\\\\Program Files (x86)\\\\Common Files',\n",
       " 'COMMONPROGRAMW6432': 'C:\\\\Program Files\\\\Common Files',\n",
       " 'COMPUTERNAME': 'INLT-TRE0744',\n",
       " 'COMSPEC': 'C:\\\\Windows\\\\system32\\\\cmd.exe',\n",
       " 'CONFIGSETROOT': 'C:\\\\Windows\\\\ConfigSetRoot',\n",
       " 'DATABRICKS_HOST': 'https://adb-8503913518965491.11.azuredatabricks.net/',\n",
       " 'DATABRICKS_TOKEN': '<hidden>',\n",
       " 'DRIVERDATA': 'C:\\\\Windows\\\\System32\\\\Drivers\\\\DriverData',\n",
       " 'GOOGLE_APPLICATION_CREDENTIALS': 'C:\\\\Users\\\\siddhartha.s\\\\Desktop\\\\something\\\\02. py_algo_ds\\\\THP\\\\Google\\\\key.json',\n",
       " 'HADOOP_HOME': 'C:\\\\spark\\\\spark-2.4.4-bin-hadoop2.7',\n",
       " 'HOMEDRIVE': 'C:',\n",
       " 'HOMEPATH': '\\\\Users\\\\siddhartha.s',\n",
       " 'JAVA_HOME': 'C:\\\\Program Files\\\\Java\\\\jdk-14.0.2',\n",
       " 'LOCALAPPDATA': 'C:\\\\Users\\\\siddhartha.s\\\\AppData\\\\Local',\n",
       " 'LOGONSERVER': '\\\\\\\\TREDENCEDC',\n",
       " 'MLFLOW_TRACKING_TOKEN': '<hidden>',\n",
       " 'MLFLOW_TRACKING_URI': 'databricks',\n",
       " 'MLFLOW_TRACKING_USERNAME': 'siddhartha.s@tredence.com',\n",
       " 'NUMBER_OF_PROCESSORS': '8',\n",
       " 'ONEDRIVE': 'C:\\\\OneDrive\\\\OneDrive - Tredence',\n",
       " 'ONEDRIVECOMMERCIAL': 'C:\\\\OneDrive\\\\OneDrive - Tredence',\n",
       " 'OS': 'Windows_NT',\n",
       " 'PATH': 'C:\\\\Program Files\\\\Python38\\\\Scripts\\\\;C:\\\\Program Files\\\\Python38\\\\;C:\\\\Program Files\\\\Java\\\\jdk-14.0.2\\\\bin;C:\\\\Program Files (x86)\\\\Microsoft SDKs\\\\Azure\\\\CLI2\\\\wbin;C:\\\\Program Files (x86)\\\\Common Files\\\\Oracle\\\\Java\\\\javapath;C:\\\\Program Files\\\\Python36\\\\Scripts\\\\;C:\\\\Program Files\\\\Python36\\\\;C:\\\\Program Files (x86)\\\\Intel\\\\Intel(R) Management Engine Components\\\\iCLS\\\\;C:\\\\Program Files\\\\Intel\\\\Intel(R) Management Engine Components\\\\iCLS\\\\;C:\\\\Windows\\\\system32;C:\\\\Windows;C:\\\\Windows\\\\System32\\\\Wbem;C:\\\\Windows\\\\System32\\\\WindowsPowerShell\\\\v1.0\\\\;C:\\\\Windows\\\\System32\\\\OpenSSH\\\\;C:\\\\Program Files (x86)\\\\Intel\\\\Intel(R) Management Engine Components\\\\DAL;C:\\\\Program Files\\\\Intel\\\\Intel(R) Management Engine Components\\\\DAL;C:\\\\Program Files (x86)\\\\Windows Kits\\\\8.1\\\\Windows Performance Toolkit\\\\;C:\\\\Program Files\\\\Git\\\\cmd;C:\\\\Program Files\\\\Git\\\\mingw64\\\\bin;C:\\\\Program Files\\\\Git\\\\usr\\\\bin;C:\\\\Program Files (x86)\\\\HashiCorp\\\\Vagrant\\\\bin;C:\\\\Program Files\\\\Intel\\\\WiFi\\\\bin\\\\;C:\\\\Program Files\\\\Common Files\\\\Intel\\\\WirelessCommon\\\\;C:\\\\Program Files\\\\Docker\\\\Docker\\\\resources\\\\bin;C:\\\\ProgramData\\\\DockerDesktop\\\\version-bin;C:\\\\Program Files\\\\PostgreSQL\\\\10\\\\bin;C:\\\\Program Files\\\\PuTTY\\\\;C:\\\\Program Files\\\\MySQL\\\\MySQL Utilities 1.6\\\\;C:\\\\Program Files\\\\Java\\\\jdk-14.0.2\\\\bin;C:\\\\Users\\\\siddhartha.s\\\\scoop\\\\shims;C:\\\\Users\\\\siddhartha.s\\\\AppData\\\\Local\\\\Microsoft\\\\WindowsApps;C:\\\\Users\\\\siddhartha.s\\\\AppData\\\\Local\\\\atom\\\\bin;C:\\\\spark\\\\bin;%JAVA_HOMW%\\\\bin;C:\\\\Users\\\\siddhartha.s\\\\AppData\\\\Local\\\\Programs\\\\Microsoft VS Code\\\\bin;C:\\\\spark\\\\spark-2.4.4-bin-hadoop2.7\\\\bin;C:\\\\Program Files\\\\PostgreSQL\\\\10\\\\bin;',\n",
       " 'PATHEXT': '.COM;.EXE;.BAT;.CMD;.VBS;.VBE;.JS;.JSE;.WSF;.WSH;.MSC;.PY;.PYW',\n",
       " 'PROCESSOR_ARCHITECTURE': 'AMD64',\n",
       " 'PROCESSOR_IDENTIFIER': 'Intel64 Family 6 Model 142 Stepping 10, GenuineIntel',\n",
       " 'PROCESSOR_LEVEL': '6',\n",
       " 'PROCESSOR_REVISION': '8e0a',\n",
       " 'PROGRAMDATA': 'C:\\\\ProgramData',\n",
       " 'PROGRAMFILES': 'C:\\\\Program Files',\n",
       " 'PROGRAMFILES(X86)': 'C:\\\\Program Files (x86)',\n",
       " 'PROGRAMW6432': 'C:\\\\Program Files',\n",
       " 'PROMPT': '$P$G',\n",
       " 'PSMODULEPATH': 'C:\\\\Program Files\\\\WindowsPowerShell\\\\Modules;C:\\\\Windows\\\\system32\\\\WindowsPowerShell\\\\v1.0\\\\Modules',\n",
       " 'PUBLIC': 'C:\\\\Users\\\\Public',\n",
       " 'PYSPARK_DRIVER_PYTHON': 'ipython',\n",
       " 'PYSPARK_DRIVER_PYTHON_OPTS': 'notebook',\n",
       " 'SESSIONNAME': 'Console',\n",
       " 'SPARK_HOME': 'C:\\\\spark\\\\spark-2.4.4-bin-hadoop2.7',\n",
       " 'SYSTEMDRIVE': 'C:',\n",
       " 'SYSTEMROOT': 'C:\\\\Windows',\n",
       " 'TEMP': 'C:\\\\Users\\\\SIDDHA~1.S\\\\AppData\\\\Local\\\\Temp',\n",
       " 'TMP': 'C:\\\\Users\\\\SIDDHA~1.S\\\\AppData\\\\Local\\\\Temp',\n",
       " 'USERDNSDOMAIN': 'TREDENCE.COM',\n",
       " 'USERDOMAIN': 'TREDENCE',\n",
       " 'USERDOMAIN_ROAMINGPROFILE': 'TREDENCE',\n",
       " 'USERNAME': 'siddhartha.s',\n",
       " 'USERPROFILE': 'C:\\\\Users\\\\siddhartha.s',\n",
       " 'VBOX_MSI_INSTALL_PATH': 'C:\\\\Program Files\\\\Oracle\\\\VirtualBox\\\\',\n",
       " 'VS140COMNTOOLS': 'C:\\\\Program Files (x86)\\\\Microsoft Visual Studio 14.0\\\\Common7\\\\Tools\\\\',\n",
       " 'WINDIR': 'C:\\\\Windows',\n",
       " 'KERNEL_LAUNCH_TIMEOUT': '40',\n",
       " 'JPY_INTERRUPT_EVENT': '2632',\n",
       " 'IPY_INTERRUPT_EVENT': '2632',\n",
       " 'JPY_PARENT_PID': '2332',\n",
       " 'TERM': 'xterm-color',\n",
       " 'CLICOLOR': '1',\n",
       " 'PAGER': 'cat',\n",
       " 'GIT_PAGER': 'cat',\n",
       " 'MPLBACKEND': 'module://ipykernel.pylab.backend_inline'}"
      ]
     },
     "execution_count": 7,
     "metadata": {},
     "output_type": "execute_result"
    }
   ],
   "source": [
    "%env"
   ]
  },
  {
   "cell_type": "code",
   "execution_count": 125,
   "metadata": {},
   "outputs": [],
   "source": [
    "from Google import NaturalLanguageAPI\n",
    "from Twitter import get_trends, get_tweets\n",
    "import pandas as pd\n",
    "import datetime\n",
    "import os\n",
    "\n",
    "\n",
    "def cache_trends(trends, woeid):\n",
    "    path = \"C:\\\\Users\\\\siddhartha.s\\\\Desktop\\\\something\\\\02. py_algo_ds\\\\THP\\\\\"\n",
    "    \n",
    "    day = \"0\" + str(date.day)\n",
    "    month = \"0\" + str(date.month)\n",
    "    year = str(date.year)\n",
    "    t_stamp = day[-2:] + month[-2:] + str(date.year)\n",
    "    \n",
    "    with open(f\"{path}trends_{woeid}_{t_stamp}.txt\", 'w') as f:\n",
    "        for item in trends:\n",
    "            try:\n",
    "                f.write(\"%s\\n\" % item)\n",
    "            except Exception as ex:\n",
    "                print(f\"Could not write {item} to file.\")\n",
    "                print(ex)\n",
    "    \n",
    "\n",
    "def main():\n",
    "    india_woeid = \"2282863\"\n",
    "    woeid = india_woeid\n",
    "    \n",
    "    path = \"C:\\\\Users\\\\siddhartha.s\\\\Desktop\\\\something\\\\02. py_algo_ds\\\\THP\\\\\"\n",
    "    files = os.listdir(path)\n",
    "    \n",
    "    day = \"0\" + str(date.day)\n",
    "    month = \"0\" + str(date.month)\n",
    "    year = str(date.year)\n",
    "    t_stamp = day[-2:] + month[-2:] + str(date.year)\n",
    "    file_prefix = f\"trends_{woeid}_{t_stamp}.txt\"\n",
    "    files_with_prefix = [x for x in files if x.endswith(file_prefix)]\n",
    "    \n",
    "    if len(files_with_prefix) > 0:\n",
    "        print(f\"Reading trends for {t_stamp} from cache.\")\n",
    "        trends = []\n",
    "        with open(files_with_prefix[0]) as file:\n",
    "            for line in file: \n",
    "                line = line.strip() #or some other preprocessing\n",
    "                trends.append(line) #storing everything in memory!\n",
    "    else:\n",
    "        print(\"No cache found at path, querying for new trends' list\")\n",
    "        trends = get_trends.get_latest_trends(woeid)\n",
    "        cache_trends(trends, woeid)\n",
    "   \n",
    "    tweets = {}\n",
    "    \n",
    "    for trend in trends[:5]:\n",
    "        tweets[trend] = get_tweets.get_tweets(trend)\n",
    "        \n",
    "    return tweets\n",
    "\n",
    "    results = {}\n",
    "    sentiment_analysis = NaturalLanguageAPI.NaturalLanguageAPI()\n",
    "    for key, value in tweets.items():\n",
    "        for text in value:\n",
    "            try:\n",
    "                res = sentiment_analysis.analyze_text_sentiment(text)\n",
    "                results[(key, text)] = (res['score'], res['magnitude'])\n",
    "            except Exception as ex:\n",
    "                print(f\"{text} from {key} could not be evaluated\")\n",
    "                print(ex)\n",
    "\n",
    "    df = pd.DataFrame(res).T\n",
    "    df_pos = df[df[0]>0]\n",
    "    df_neg = df[df[0]<0]\n",
    "\n",
    "    return df_pos"
   ]
  },
  {
   "cell_type": "code",
   "execution_count": 126,
   "metadata": {
    "scrolled": true
   },
   "outputs": [
    {
     "name": "stdout",
     "output_type": "stream",
     "text": [
      "Reading trends for 30082020 from cache.\n"
     ]
    }
   ],
   "source": [
    "res = main()"
   ]
  },
  {
   "cell_type": "code",
   "execution_count": 137,
   "metadata": {
    "scrolled": true
   },
   "outputs": [
    {
     "data": {
      "text/plain": [
       "{'Saaho': ['RT @Aman11073721: #1YearForBOMonsterSaaho\\nUnseen pic of #Prabhas with dialogue writer of #Saaho  and #RadheShyam https://t.co/nOx8ZiFd6c',\n",
       "  'RT @PrabhasGirlsFC: Pic posted by @NeilNMukesh sir with #Prabhas during #Saaho shoot for #1YearForBOMonsterSaaho \\n#PrabhasEra \\n#PrabhasGirl…',\n",
       "  'RT @PrabhasRules: Historic Opening for #Saaho in Nepal. Opened better than Nepali Film. \\nHe has such an undisputed market not\\n\\n#1YearForBOM…',\n",
       "  'RT @SaviiHemu: Can i get 10 replies vth Tag\\n\\n#1YearForBOMonsterSaaho \\n#Prabhas || #RadheShyam || #Saaho',\n",
       "  'RT @rajyavardhan818: #1YearForBOMonsterSaaho\\n#saaho\\n#shraddhakapoor\\n#prabhas \\n@ShraddhaKapoor https://t.co/9dj1t8rjTA',\n",
       "  \"RT @venky1417: When many B-Town Heros didn't beat BB2 in any area, #Prabhas created All time &amp; Non BB2 Records with film with huge negativi…\",\n",
       "  'RT @upendratarak99: Intha manchi Posters 👌 vadhala kunda, ela dacharu ayya, innallu🤦\\u200d♀️🤦\\u200d♀️ @UV_Creations\\n\\nSiddharth Nandan Saaho 🔥😎\\n\\n#1Yea…',\n",
       "  'RT @RebelismNetwork: To my diehard fans &amp; team Saaho, thank you for all the love and support!\\xa0#1YearOfSaaho\\xa0🤗😊 - #Prabhas via Instagram.\\n#1…',\n",
       "  'RT @SPICinemas: Celebrating one year of the blockbuster sucess #Saaho 🔥\\n\\n#Prabhas #Prabhas23 #PrabhasAdvBdayTrendonSep11 #PrabhasAdvBdayTre…',\n",
       "  'RT @Yaswanth4Prabha: @kri5hna_ @AlluSirish true same naadhi kudaa #Prabhas #Saaho \\n#ReleaseSaahoFullVersion \\n#1YearForBOMonsterSaaho'],\n",
       " 'LISA YOU ARE LOVED': ['LISA YOU ARE LOVED\\nLILIES LOVES YOU LISA\\nJISOO HUMAN DIOR\\nMAIN VOCALIST ROSÉ\\nJENNIE IT GIRL',\n",
       "  'RT @Lsglobal_: Lisa we are always proud of the amount of determination you put into your work. Even more so the humble and loving person th…',\n",
       "  \"RT @lisamyellow: hehehe 4L as a subtle way of saying she's doing okay but at the same time when she's extra clingy to them it's a hint that…\",\n",
       "  'RT @ChachaLISABTS: จำคำตอบในนิตรสารของElle Korea ขึ้นใจมาก ที่ถามถึงความปารถนาที่อยากทำในปี2020ของลิซ่า แล้วลิซ่าตอบว่า “ไม่มีอะไรเป็นพิเศษ…',\n",
       "  'RT @lisamygem: hehe 5L i tried 😪 \\n\\nLISA YOU ARE LOVED https://t.co/XbJojBpHID',\n",
       "  'RT @lileeli666: มายควีน\\nLISA YOU ARE LOVED\\nLILIES LOVE YOU LISA',\n",
       "  \"RT @sunnysunlisa: if you're an ot4, rt and reply with:\\n\\nLISA YOU ARE LOVED\\n\\nJENNIE IT GIRL\\n\\nJISOO HUMAN DIOR\\n\\nMAIN VOCALIST ROSÉ\\n\\nlove and…\",\n",
       "  'RT @lilimagnifique: we are still trending no.2 worldwide with 262k tweets for LISA YOU ARE LOVED.\\n\\ncan i get 327 reply on this tweet lilies…',\n",
       "  \"RT @herlalisa: lisa once said that when she's having a hard time she would just look at her cats' photos and she'll feel better. hope youre…\",\n",
       "  'RT @LILITEAMTH327: ขอบคุณทุกคนที่ยังอยู่ตรงนี้ไม่ไปไหนนะคะ  ไม่ว่าจะบลิ๊งค์ ลิลลี่ เมนลิซ่า หรือใครก็ตามที่รัก และเอ็นดูน้องเสมอมา อยู่ด้วย…'],\n",
       " 'MannKiBaat': ['RT @Zoya_nafidi: PM Modi hails Army dogs Sophie and Vida; says Indian breeds are very good.\\n\\n#MannKiBaat https://t.co/iThvcY3EH2',\n",
       "  'RT @pahadi_chori: ये है शिक्षा मंत्री #RPNishank @DrRPNishank\\n\\nअब इनसे छात्रहित की उम्मीद कर सकते है?\\n\\n#PostponeJEEAndNEET #PostponeExams_O…',\n",
       "  'RT @smritiirani: India’s unique strength is our diversity and this is reflected in our food as well. @MinistryWCD is formulating ‘Bharatiya…',\n",
       "  'खिलौनों के साथ हम दो चीजें कर सकते हैं - अपने गौरवशाली अतीत को अपने जीवन में फिर से उतार सकते हैं और अपने स्वर्णिम भविष्य को भी संवार सकते हैं।\\n\\nअब सभी के लिए Local खिलौनों के लिए Vocal होने का समय है : PM @NarendraModi जी #MannKiBaat https://t.co/I43zemylkx',\n",
       "  'RT @vijayrupanibjp: अगर आपको गुजरात में सरदार वल्लभभाई पटेल के #StatueofUnity जाने का अवसर मिला होगा, और कोविड के बाद जब वो खुलेगा और आपको…',\n",
       "  \"RT @JyotiRa54802248: It's very sad that our own government can't listen our voices which is echoing through out the world.Thank you so much…\",\n",
       "  'RT @Khushiyadav03: Here he says that it’s insult of journalism. But what about in the case of STUDENTS. You presented wrong data about NEET…',\n",
       "  'RT @narendramodi: Tune in at 11 AM on 30th August. #MannKiBaat https://t.co/PuaZEqmT78',\n",
       "  'RT @narendramodi: Tune in to #MannKiBaat August 2020. https://t.co/XxDKp09J1A',\n",
       "  'RT @OneMenArmy1987: #CBI_ForOnlineLoanCompanys\\n\\n@PMOIndia @FinMinIndia @dir_ed @RBI @RahulGandhi @narendramodi @AmitShah @ArvindKejriwal @a…'],\n",
       " 'BogusCaseButStillJail': ['Media, Money &amp; Pre- Planned Conspiracy की मदद से रचाया गया है षड्यन्त्र Sant Shri Asharamji Bapu के विरुद्ध ओर उन्हें बिना सबूत उम्रकैद सज़ा दी गई है। ये सब साबित करता है भोलानन्द का  बयान, जनता भी जाने सारा सच। ?? #BogusCaseButStillJail',\n",
       "  'RT @JogiPyare: पूज्य Sant Shri Asharamji Bapu को बोगस केस में षड़यंत्र करके फसाया गया है इसके कई पुख्ता सबूत हैं, लेकिन उन सभी साक्ष्यों को…',\n",
       "  \"RT @AshramBmr: Sant Shri Asharamji Bapu's case :\\n\\n⏺️ Medical Report denies rape\\n\\n⏺️ Call details show that girl was busy on call at inciden…\",\n",
       "  'RT @YogVedantSamiti: सुब्रमण्यम स्वामी जी ने बताया कि आखिर क्यों लगे पूज्य Sant Shri Asharamji Bapu पर झूठे आरोप ?\\n#BogusCaseButStillJail\\nh…',\n",
       "  'RT @RpRamesh10: @Meera62800725 @aajtak \"Sant Shri Asharamji Bapu के केस में 1 भी सबूत ऐसा नही मिला जो Bapuji को आरोपी साबित करे, ये भी साबि…',\n",
       "  \"RT @yaminidewangan2: We don't understand that inspite of clear evidence that Sant Sri Asharamji Bapu has been trapped in false case, why is…\",\n",
       "  'RT @RakeshS69003114: @BhanuBusa3 @IndiaToday देश को तोड़ने वाले, हिन्दुओं के खिलाफ भड़काऊ भाषण देकर जहर उगलने वाले, कोरोना जैसी महामारी को…',\n",
       "  'RT @AshokPa72976701: Now the reality of the \"so-called Nishpaksha media\" is understood by everyone. They constantly targets the Hindu saint…',\n",
       "  \"@ISupport_Bapuji It's been 7 years of injustice, \\nSant Shri Asharamji Bapu is victim not that so called girl who has trapped Bapuji in fake case.\\nEvidences are showing that Bapuji is innocent but these evidences in favour of pujya Bapuji are being ignored!!\\n#BogusCaseButStillJail https://t.co/xcNKEQjgXe\",\n",
       "  'RT @BrijPal43219651: Sant Shri Asharamji Bapu केस में लड़की की मेडिकल रिपोर्ट से स्पष्ट होता है कि किसी तरह का physical assault नहीं हुआ है…'],\n",
       " 'ArrestDishaSSRKillers': ['No protection was given to @KanganaTeam despite her requests but protection was given to drug peddling criminals like Rhea! Shameful.\\n\\n#ArrestDishaSSRKillers\\n#ArrestDishaSSRKillers',\n",
       "  'RT @Neer1984: #ArrestDishaSSRKillers\\nMe: Hello\\n\\nHDFC: Good morning sir, How can we help you?\\n\\nMe: woh Rs 50 lakh ka loan chaiye at Rs 17,00…',\n",
       "  'RT @IshaKaurssr2: HT for August 30th :\\n\\n#ArrestDishaSSRKillers https://t.co/FF4l82SdAJ',\n",
       "  'RT @0NitaAmbani: Dear CBI\\n\\nYe Roj Roj Bulana Kyu?? Just Arrest Her!!\\n\\nCase Will Be Solved Soon.\\n\\nRetweet Maximum If You Agree!!\\n\\n#ArrestDis…',\n",
       "  'RT @Madhu94799200: #ArrestDishaSSRKillers\\nAnybody who remains silent today in this fight for justice will remain silent forever in every fi…',\n",
       "  \"RT @ShrivastavAwani: Guys it's time to ask some real questions. \\nSpread this \\n#ArrestDishaSSRKillers https://t.co/qVxYvbh8Np\",\n",
       "  'RT @bbargrkma: #ArrestDishaSSRKillers\\n\\nWhy CBI is not calling Sandeep Singh? Please raise your voice. Use this hashtag #ArrestSandeepSingh…',\n",
       "  \"RT @Imkgauravmishra: Exactly Be United, Don't fall in trap of fake individuals &amp; PR machinery who are trying to Divide &amp; Rule.\\n\\nI will figh…\",\n",
       "  'RT @sushfanseg: Anybody who remains silent today in this fight for justice will remain silent forever in every fight ..\\n\\n#ArrestDishaSSRKil…',\n",
       "  'RT @Imkgauravmishra: What a coincidence, Arnab is her idol!\\n\\nSorry Babu @Tweet2Rhea\\n\\n#ArrestDishaSSRKillers\\n\\nhttps://t.co/GEraImhML9']}"
      ]
     },
     "execution_count": 137,
     "metadata": {},
     "output_type": "execute_result"
    }
   ],
   "source": [
    "res"
   ]
  },
  {
   "cell_type": "code",
   "execution_count": 128,
   "metadata": {},
   "outputs": [],
   "source": [
    "df = pd.DataFrame(res)"
   ]
  },
  {
   "cell_type": "code",
   "execution_count": 168,
   "metadata": {},
   "outputs": [],
   "source": [
    "df = pd.read_csv(\"some.csv\").to_dict(orient=\"list\")"
   ]
  },
  {
   "cell_type": "code",
   "execution_count": 171,
   "metadata": {},
   "outputs": [
    {
     "data": {
      "text/plain": [
       "True"
      ]
     },
     "execution_count": 171,
     "metadata": {},
     "output_type": "execute_result"
    }
   ],
   "source": [
    "df == res"
   ]
  },
  {
   "cell_type": "code",
   "execution_count": 170,
   "metadata": {},
   "outputs": [
    {
     "data": {
      "text/html": [
       "<div>\n",
       "<style scoped>\n",
       "    .dataframe tbody tr th:only-of-type {\n",
       "        vertical-align: middle;\n",
       "    }\n",
       "\n",
       "    .dataframe tbody tr th {\n",
       "        vertical-align: top;\n",
       "    }\n",
       "\n",
       "    .dataframe thead th {\n",
       "        text-align: right;\n",
       "    }\n",
       "</style>\n",
       "<table border=\"1\" class=\"dataframe\">\n",
       "  <thead>\n",
       "    <tr style=\"text-align: right;\">\n",
       "      <th></th>\n",
       "      <th></th>\n",
       "      <th>0</th>\n",
       "      <th>1</th>\n",
       "    </tr>\n",
       "  </thead>\n",
       "  <tbody>\n",
       "    <tr>\n",
       "      <th rowspan=\"2\" valign=\"top\">Saaho</th>\n",
       "      <th>RT @PrabhasFansVja: @sujeethsign @Asli_Jacqueline India's biggest blockbuster of the year 🔥🔥\\n#Saaho collected whopping 350 Cr+ gross in Jus…</th>\n",
       "      <td>-0.1</td>\n",
       "      <td>0.1</td>\n",
       "    </tr>\n",
       "    <tr>\n",
       "      <th>More unseen stills of #Prabhas with @ShraddhaKapoor from Baby wont you tell me song of #Saaho 👌👌\\n#1YearForBOMonsterSaaho \\n#PrabhasEra \\n#PrabhasGirlsFC https://t.co/reZ9UPzjzr</th>\n",
       "      <td>-0.1</td>\n",
       "      <td>0.1</td>\n",
       "    </tr>\n",
       "    <tr>\n",
       "      <th rowspan=\"4\" valign=\"top\">MannKiBaat</th>\n",
       "      <th>RT @Vivekpandey21: Hello @narendramodi @DrRPNishank @EduMinOfIndia see this video.\\nThis is how NEET &amp;amp; JEE aspirants will go to give exam ?…</th>\n",
       "      <td>-0.1</td>\n",
       "      <td>0.2</td>\n",
       "    </tr>\n",
       "    <tr>\n",
       "      <th>RT @saahilmenghani: Not one word by PM on #JeeNeet2020 in his #MannKiBaat\\n\\nCould have quoted a para from Exam warriors just to heal India's…</th>\n",
       "      <td>-0.4</td>\n",
       "      <td>0.9</td>\n",
       "    </tr>\n",
       "    <tr>\n",
       "      <th>RT @realzappydhiman: Where students are suffering from loads of stress &amp;amp; anxiety, some even committed suicide, Our PM chooses to not talk a…</th>\n",
       "      <td>-0.8</td>\n",
       "      <td>0.8</td>\n",
       "    </tr>\n",
       "    <tr>\n",
       "      <th>RT @pundirlol: PM @narendramodi doesn't speak a word related to JEE NEET in his #MannKiBaat today.\\n  \\nHopes are down.</th>\n",
       "      <td>-0.6</td>\n",
       "      <td>1.3</td>\n",
       "    </tr>\n",
       "    <tr>\n",
       "      <th>BogusCaseButStillJail</th>\n",
       "      <th>RT @khushbuSahu8: @Rridhm @raghvrai @hindupost Christian missionaries are breaking our religion and we are not understanding\\n#BogusCaseButS…</th>\n",
       "      <td>-0.8</td>\n",
       "      <td>0.8</td>\n",
       "    </tr>\n",
       "  </tbody>\n",
       "</table>\n",
       "</div>"
      ],
      "text/plain": [
       "                                                                            0  \\\n",
       "Saaho                 RT @PrabhasFansVja: @sujeethsign @Asli_Jacqueli... -0.1   \n",
       "                      More unseen stills of #Prabhas with @ShraddhaKa... -0.1   \n",
       "MannKiBaat            RT @Vivekpandey21: Hello @narendramodi @DrRPNis... -0.1   \n",
       "                      RT @saahilmenghani: Not one word by PM on #JeeN... -0.4   \n",
       "                      RT @realzappydhiman: Where students are sufferi... -0.8   \n",
       "                      RT @pundirlol: PM @narendramodi doesn't speak a... -0.6   \n",
       "BogusCaseButStillJail RT @khushbuSahu8: @Rridhm @raghvrai @hindupost ... -0.8   \n",
       "\n",
       "                                                                            1  \n",
       "Saaho                 RT @PrabhasFansVja: @sujeethsign @Asli_Jacqueli...  0.1  \n",
       "                      More unseen stills of #Prabhas with @ShraddhaKa...  0.1  \n",
       "MannKiBaat            RT @Vivekpandey21: Hello @narendramodi @DrRPNis...  0.2  \n",
       "                      RT @saahilmenghani: Not one word by PM on #JeeN...  0.9  \n",
       "                      RT @realzappydhiman: Where students are sufferi...  0.8  \n",
       "                      RT @pundirlol: PM @narendramodi doesn't speak a...  1.3  \n",
       "BogusCaseButStillJail RT @khushbuSahu8: @Rridhm @raghvrai @hindupost ...  0.8  "
      ]
     },
     "execution_count": 170,
     "metadata": {},
     "output_type": "execute_result"
    }
   ],
   "source": [
    "df_neg"
   ]
  },
  {
   "cell_type": "code",
   "execution_count": 62,
   "metadata": {},
   "outputs": [],
   "source": [
    "t = datetime.datetime.now()"
   ]
  },
  {
   "cell_type": "code",
   "execution_count": 67,
   "metadata": {},
   "outputs": [
    {
     "data": {
      "text/plain": [
       "'2020_08_30_12_58_48_093177'"
      ]
     },
     "execution_count": 67,
     "metadata": {},
     "output_type": "execute_result"
    }
   ],
   "source": [
    "str(t).replace(\":\", \"_\").replace(\" \", \"_\").replace(\".\", \"_\").replace(\"-\", \"_\")"
   ]
  },
  {
   "cell_type": "code",
   "execution_count": null,
   "metadata": {},
   "outputs": [],
   "source": []
  },
  {
   "cell_type": "code",
   "execution_count": null,
   "metadata": {},
   "outputs": [],
   "source": []
  },
  {
   "cell_type": "code",
   "execution_count": 80,
   "metadata": {},
   "outputs": [],
   "source": [
    "import os"
   ]
  },
  {
   "cell_type": "code",
   "execution_count": 83,
   "metadata": {},
   "outputs": [],
   "source": [
    "path = \"C:\\\\Users\\\\siddhartha.s\\\\Desktop\\\\something\\\\02. py_algo_ds\\\\THP\\\\\"\n",
    "files = os.listdir(path)\n",
    "date = datetime.datetime.now()"
   ]
  },
  {
   "cell_type": "code",
   "execution_count": 84,
   "metadata": {},
   "outputs": [
    {
     "data": {
      "text/plain": [
       "['.ipynb_checkpoints',\n",
       " '.vscode',\n",
       " 'Google',\n",
       " 'main.py',\n",
       " 'trends_2282863_2020_08_30_13_02_40_809825.txt',\n",
       " 'Twitter',\n",
       " 'Untitled.ipynb']"
      ]
     },
     "execution_count": 84,
     "metadata": {},
     "output_type": "execute_result"
    }
   ],
   "source": [
    "files"
   ]
  },
  {
   "cell_type": "code",
   "execution_count": 109,
   "metadata": {},
   "outputs": [],
   "source": [
    "day = \"0\" + str(date.day)\n",
    "month = \"0\" + str(date.month)\n",
    "year = str(date.year)\n",
    "t_stamp = day[-2:] + month[-2:] + str(date.year)"
   ]
  },
  {
   "cell_type": "code",
   "execution_count": 110,
   "metadata": {},
   "outputs": [
    {
     "data": {
      "text/plain": [
       "'30082020'"
      ]
     },
     "execution_count": 110,
     "metadata": {},
     "output_type": "execute_result"
    }
   ],
   "source": [
    "t_stamp"
   ]
  },
  {
   "cell_type": "code",
   "execution_count": 103,
   "metadata": {},
   "outputs": [],
   "source": [
    "s = \"0\"+str(date.day)"
   ]
  },
  {
   "cell_type": "code",
   "execution_count": 107,
   "metadata": {},
   "outputs": [
    {
     "data": {
      "text/plain": [
       "'30'"
      ]
     },
     "execution_count": 107,
     "metadata": {},
     "output_type": "execute_result"
    }
   ],
   "source": [
    "s[-2:]"
   ]
  },
  {
   "cell_type": "code",
   "execution_count": 102,
   "metadata": {},
   "outputs": [
    {
     "data": {
      "text/plain": [
       "0"
      ]
     },
     "execution_count": 102,
     "metadata": {},
     "output_type": "execute_result"
    }
   ],
   "source": [
    "[0,3,0][-1]"
   ]
  },
  {
   "cell_type": "code",
   "execution_count": null,
   "metadata": {},
   "outputs": [],
   "source": []
  },
  {
   "cell_type": "code",
   "execution_count": 4,
   "metadata": {},
   "outputs": [
    {
     "data": {
      "text/plain": [
       "<module 'Twitter.get_trends' from 'C:\\\\Users\\\\siddhartha.s\\\\Desktop\\\\something\\\\02. py_algo_ds\\\\THP\\\\Twitter\\\\get_trends.py'>"
      ]
     },
     "execution_count": 4,
     "metadata": {},
     "output_type": "execute_result"
    }
   ],
   "source": [
    "get_trends.get_latest_trends"
   ]
  },
  {
   "cell_type": "code",
   "execution_count": 10,
   "metadata": {},
   "outputs": [],
   "source": [
    "obj = NaturalLanguageAPI.NaturalLanguageAPI()"
   ]
  },
  {
   "cell_type": "code",
   "execution_count": 11,
   "metadata": {},
   "outputs": [
    {
     "data": {
      "text/plain": [
       "{'text': \"RT @PrabhasFansVja: Afternoon Attendance Check !!\\nWho Are Participating? \\n\\n#Prabhas | #RadheShyam #1YearForBOMonsterSaaho\\n#Saaho'\",\n",
       " 'score': 0.10000000149011612,\n",
       " 'magnitude': 0.699999988079071}"
      ]
     },
     "execution_count": 11,
     "metadata": {},
     "output_type": "execute_result"
    }
   ],
   "source": [
    "obj.analyze_text_sentiment(\"RT @PrabhasFansVja: Afternoon Attendance Check !!\\nWho Are Participating? \\n\\n#Prabhas | #RadheShyam #1YearForBOMonsterSaaho\\n#Saaho'\")"
   ]
  },
  {
   "cell_type": "code",
   "execution_count": 12,
   "metadata": {},
   "outputs": [],
   "source": [
    "text = \"RT @PrabhasFansVja: Afternoon Attendance Check !!\\nWho Are Participating? \\n\\n#Prabhas | #RadheShyam #1YearForBOMonsterSaaho\\n#Saaho'\""
   ]
  },
  {
   "cell_type": "code",
   "execution_count": 13,
   "metadata": {},
   "outputs": [
    {
     "data": {
      "text/plain": [
       "b\"RT @PrabhasFansVja: Afternoon Attendance Check !!\\nWho Are Participating? \\n\\n#Prabhas | #RadheShyam #1YearForBOMonsterSaaho\\n#Saaho'\""
      ]
     },
     "execution_count": 13,
     "metadata": {},
     "output_type": "execute_result"
    }
   ],
   "source": [
    "text.encode('utf-8')"
   ]
  },
  {
   "cell_type": "code",
   "execution_count": null,
   "metadata": {},
   "outputs": [],
   "source": []
  }
 ],
 "metadata": {
  "kernelspec": {
   "display_name": "Python 3",
   "language": "python",
   "name": "python3"
  },
  "language_info": {
   "codemirror_mode": {
    "name": "ipython",
    "version": 3
   },
   "file_extension": ".py",
   "mimetype": "text/x-python",
   "name": "python",
   "nbconvert_exporter": "python",
   "pygments_lexer": "ipython3",
   "version": "3.8.0"
  }
 },
 "nbformat": 4,
 "nbformat_minor": 4
}
