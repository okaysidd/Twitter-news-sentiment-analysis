{
 "cells": [
  {
   "cell_type": "code",
   "execution_count": 4,
   "metadata": {},
   "outputs": [],
   "source": [
    "import pandas as pd"
   ]
  },
  {
   "cell_type": "code",
   "execution_count": 25,
   "metadata": {},
   "outputs": [],
   "source": [
    "df = pd.read_csv(\"some - Copy.csv\").to_dict(orient=\"list\")"
   ]
  },
  {
   "cell_type": "code",
   "execution_count": 26,
   "metadata": {},
   "outputs": [
    {
     "data": {
      "text/plain": [
       "{'Saaho': [1, 2, 3, 4, 5, 6, 7, 8],\n",
       " 'LISA YOU ARE LOVED': [10, 20, 30, 40, 50, 60, 70, 80],\n",
       " 'MannKiBaat': [100, 200, 300, 400, 500, 600, 700, 800],\n",
       " 'BogusCaseButStillJail': [1000, 2000, 3000, 4000, 5000, 6000, 7000, 8000],\n",
       " 'ArrestDishaSSRKillers': [10000,\n",
       "  20000,\n",
       "  30000,\n",
       "  40000,\n",
       "  50000,\n",
       "  60000,\n",
       "  70000,\n",
       "  80000]}"
      ]
     },
     "execution_count": 26,
     "metadata": {},
     "output_type": "execute_result"
    }
   ],
   "source": [
    "df"
   ]
  },
  {
   "cell_type": "code",
   "execution_count": 21,
   "metadata": {},
   "outputs": [
    {
     "data": {
      "text/plain": [
       "{'Saaho': [1, 2, 3, 4, 5, 6, 7, 8],\n",
       " 'LISA YOU ARE LOVED': [10, 20, 30, 40, 50, 60, 70, 80],\n",
       " 'MannKiBaat': [100, 200, 300, 400, 500, 600, 700, 800],\n",
       " 'BogusCaseButStillJail': [1000, 2000, 3000, 4000, 5000, 6000, 7000, 8000],\n",
       " 'ArrestDishaSSRKillers': [10000,\n",
       "  20000,\n",
       "  30000,\n",
       "  40000,\n",
       "  50000,\n",
       "  60000,\n",
       "  70000,\n",
       "  80000]}"
      ]
     },
     "execution_count": 21,
     "metadata": {},
     "output_type": "execute_result"
    }
   ],
   "source": [
    "df.to_dict(orient=\"list\")"
   ]
  },
  {
   "cell_type": "code",
   "execution_count": null,
   "metadata": {},
   "outputs": [],
   "source": []
  }
 ],
 "metadata": {
  "kernelspec": {
   "display_name": "Python 3",
   "language": "python",
   "name": "python3"
  },
  "language_info": {
   "codemirror_mode": {
    "name": "ipython",
    "version": 3
   },
   "file_extension": ".py",
   "mimetype": "text/x-python",
   "name": "python",
   "nbconvert_exporter": "python",
   "pygments_lexer": "ipython3",
   "version": "3.8.0"
  }
 },
 "nbformat": 4,
 "nbformat_minor": 4
}
